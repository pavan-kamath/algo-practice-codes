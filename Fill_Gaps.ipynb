{
 "cells": [
  {
   "cell_type": "code",
   "execution_count": 270,
   "id": "c22675ff",
   "metadata": {},
   "outputs": [],
   "source": [
    "def fill_gaps(a):\n",
    "    a = a.split(\",\")\n",
    "    while \"_\" in a:\n",
    "        l=0\n",
    "        m=0\n",
    "        r=0\n",
    "        flag_r=0\n",
    "        flag_l=0\n",
    "        for i,v in enumerate(a):\n",
    "            if i==0 and v!=\"_\":\n",
    "                l+=1\n",
    "                r+=1\n",
    "            elif i==(len(a)-1) and v==\"_\":\n",
    "                r+=1\n",
    "                flag_r = 1\n",
    "                m+=1\n",
    "                break\n",
    "            elif v==\"_\":\n",
    "                m+=1\n",
    "                r+=1\n",
    "            elif i>0 and v!=\"_\" and m==0:\n",
    "                l+=1\n",
    "                r+=1\n",
    "            elif i>0 and v!=\"_\" and m>0:\n",
    "                r+=1\n",
    "                break\n",
    "        denominator = m+2\n",
    "        if l==0:\n",
    "            left = 0\n",
    "            denominator = m+1\n",
    "            l=l+1\n",
    "        else:\n",
    "            left = int(a[l-1])\n",
    "        if flag_r==1:\n",
    "            right = 0\n",
    "            denominator = m+1\n",
    "        else:\n",
    "            right = int(a[r-1])\n",
    "        numerator = left+right\n",
    "        value = numerator/denominator\n",
    "        for j in range(l-1,r):\n",
    "            a[j] = int(value)\n",
    "    a = ','.join(str(e) for e in a)\n",
    "    return a\n",
    "\n",
    "\n"
   ]
  },
  {
   "cell_type": "code",
   "execution_count": 273,
   "id": "dc450310",
   "metadata": {},
   "outputs": [
    {
     "data": {
      "text/plain": [
       "'2,2,2,3,3,3,25,25,25,25,25,5,5,5,5,5'"
      ]
     },
     "execution_count": 273,
     "metadata": {},
     "output_type": "execute_result"
    }
   ],
   "source": [
    "string = '_,4,_,4,_,7,60,_,_,_,_,90,_,_,_,_'\n",
    "fill_gaps(string)"
   ]
  }
 ],
 "metadata": {
  "kernelspec": {
   "display_name": "Python 3",
   "language": "python",
   "name": "python3"
  },
  "language_info": {
   "codemirror_mode": {
    "name": "ipython",
    "version": 3
   },
   "file_extension": ".py",
   "mimetype": "text/x-python",
   "name": "python",
   "nbconvert_exporter": "python",
   "pygments_lexer": "ipython3",
   "version": "3.8.8"
  }
 },
 "nbformat": 4,
 "nbformat_minor": 5
}
