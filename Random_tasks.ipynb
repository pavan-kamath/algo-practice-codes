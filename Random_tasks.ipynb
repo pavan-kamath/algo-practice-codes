{
 "cells": [
  {
   "cell_type": "markdown",
   "metadata": {},
   "source": [
    "# Question 1"
   ]
  },
  {
   "cell_type": "code",
   "execution_count": 6,
   "metadata": {},
   "outputs": [
    {
     "data": {
      "text/plain": [
       "'3.8.3'"
      ]
     },
     "execution_count": 6,
     "metadata": {},
     "output_type": "execute_result"
    }
   ],
   "source": [
    "from platform import python_version\n",
    "python_version()"
   ]
  },
  {
   "cell_type": "code",
   "execution_count": 1,
   "metadata": {},
   "outputs": [],
   "source": [
    "def mul_matrix(A, B): #Matrix multiplication\n",
    "    row1 = len(A)\n",
    "    col1 = len(A[0])\n",
    "    row2 = len(B)\n",
    "    col2 = len(B[0])\n",
    "    if col1 == row2:\n",
    "        R=[[0 for i in range(col2)] for j in range(row1)]\n",
    "        for i in range(row1):\n",
    "            for j in range(col2):\n",
    "                for k in range(row2):\n",
    "                    R[i][j] += A[i][k] * B[k][j]\n",
    "    else:\n",
    "        R=0\n",
    "    return(R)"
   ]
  },
  {
   "cell_type": "code",
   "execution_count": 2,
   "metadata": {},
   "outputs": [
    {
     "name": "stdout",
     "output_type": "stream",
     "text": [
      "A*B= [[7, 18, 29], [12, 31, 50], [23, 60, 89]]\n"
     ]
    }
   ],
   "source": [
    "A = [[1, 3, 4], [2, 5, 7],[5, 9, 6]]\n",
    "B = [[1, 3, 4], [2, 5, 7],[0, 0, 1]]\n",
    "\n",
    "R = mul_matrix(A, B)\n",
    "if R==0:\n",
    "    print(\"A*B= Not Possible\")\n",
    "else:\n",
    "    print(\"A*B=\",R)"
   ]
  },
  {
   "cell_type": "markdown",
   "metadata": {},
   "source": [
    "# Question 2"
   ]
  },
  {
   "cell_type": "code",
   "execution_count": 6,
   "metadata": {},
   "outputs": [],
   "source": [
    "import random\n",
    "\n",
    "\n",
    "def choose_from_list(A):\n",
    "    #This is similar to the concept of proportional sampling in Statistics \n",
    "    \n",
    "    A_backup = A #Store the array in some variable\n",
    "    prop_A=[]\n",
    "    sum_A=sum(A) #sum of elements\n",
    "    cumsum_A = [] # create a new array to store the cumulative sum\n",
    "    cumsum = 0\n",
    "    randno = random.uniform(0,1) #Pick a random number from U(0,1)\n",
    "    #print(randno)\n",
    "    #Compute cummulative sum\n",
    "    for i in A:\n",
    "        cumsum += i\n",
    "        cumsum_A.append(cumsum)\n",
    "    for j in range(len(A)):\n",
    "        prop_A.append((cumsum_A[j]/sum_A))\n",
    "    for i in range(len(prop_A)):\n",
    "        if randno <= prop_A[i]:\n",
    "            temp=i\n",
    "            break\n",
    "    return(A_backup[temp]) #return the element\n",
    "  \n",
    "def prop_sampler(A):\n",
    "    output = []\n",
    "    for i in range(1,100):\n",
    "        number = choose_from_list(A)\n",
    "        output.append(number)\n",
    "    return(output)\n",
    "    "
   ]
  },
  {
   "cell_type": "code",
   "execution_count": 87,
   "metadata": {},
   "outputs": [
    {
     "name": "stdout",
     "output_type": "stream",
     "text": [
      "[75, 58, 75, 89, 42, 100, 75, 75, 75, 66, 66, 33, 89, 89, 100, 100, 42, 91, 66, 91, 89, 66, 75, 91, 91, 91, 89, 66, 75, 66, 91, 66, 42, 100, 42, 66, 66, 100, 91, 27, 100, 75, 100, 100, 100, 27, 66, 91, 75, 75, 75, 66, 66, 89, 27, 58, 100, 75, 75, 89, 100, 100, 91, 58, 42, 89, 89, 100, 91, 100, 75, 42, 100, 66, 27, 42, 66, 75, 66, 91, 100, 100, 91, 27, 75, 91, 91, 66, 58, 100, 27, 89, 42, 58, 89, 58, 58, 91, 42]\n"
     ]
    }
   ],
   "source": [
    "A = [27,33,42,58,66,75,89,91,100]\n",
    "test_output=prop_sampler(A)\n",
    "print(test_output)"
   ]
  },
  {
   "cell_type": "markdown",
   "metadata": {},
   "source": [
    "# Question 3"
   ]
  },
  {
   "cell_type": "code",
   "execution_count": 7,
   "metadata": {},
   "outputs": [
    {
     "name": "stdout",
     "output_type": "stream",
     "text": [
      "#5%67*\n",
      "output: ###\n"
     ]
    }
   ],
   "source": [
    "import re\n",
    "def replace_digits(String):\n",
    "    inputstring=''.join(re.findall('\\d', String))\n",
    "    outputstring=re.sub('\\d','#', inputstring)\n",
    "    return(outputstring) # modified string which is after replacing the # with digits\n",
    "String=input()\n",
    "print('output:', replace_digits(String))"
   ]
  },
  {
   "cell_type": "markdown",
   "metadata": {},
   "source": [
    "# Question 4\n"
   ]
  },
  {
   "cell_type": "code",
   "execution_count": 12,
   "metadata": {},
   "outputs": [],
   "source": [
    "import operator"
   ]
  },
  {
   "cell_type": "code",
   "execution_count": 24,
   "metadata": {},
   "outputs": [],
   "source": [
    "def rank_student(student_list, marks_list):\n",
    "    student_dict = {}\n",
    "    max_mark = max(marks_list)\n",
    "    min_mark = min(marks_list) \n",
    "    diff = max_mark - min_mark\n",
    "    pre_25 = diff*0.25\n",
    "    pre_75 = diff*0.75\n",
    "    for key in student_list:\n",
    "        for value in marks_list:\n",
    "            student_dict[key] = value\n",
    "            marks_list.remove(value)\n",
    "            break\n",
    "    top_5 = dict(sorted(student_dict.items(), key=operator.itemgetter(1), reverse=True)[:5])\n",
    "    bottom_5 = dict(sorted(student_dict.items(), key=operator.itemgetter(1), reverse=False)[:5])\n",
    "    percentile_dict = {}\n",
    "    for key, value in sorted(student_dict.items(), key=operator.itemgetter(1), reverse=False):\n",
    "        if pre_25<value<pre_75:\n",
    "            valid = (key, value)\n",
    "            percentile_dict[key] = value\n",
    "    print(\"The top 5 students are: \", top_5,\"\\nThe bottom 5 students are: \", bottom_5, \"\\nThe students between 25th and 75th percentile are: \", percentile_dict)"
   ]
  },
  {
   "cell_type": "code",
   "execution_count": 25,
   "metadata": {
    "scrolled": true
   },
   "outputs": [
    {
     "name": "stdout",
     "output_type": "stream",
     "text": [
      "The top 5 students are:  {'student8': 98, 'student10': 80, 'student2': 78, 'student5': 48, 'student7': 47} \n",
      "The bottom 5 students are:  {'student3': 12, 'student4': 14, 'student9': 35, 'student6': 43, 'student1': 45} \n",
      "The students between 25th and 75th percentile are:  {'student9': 35, 'student6': 43, 'student1': 45, 'student7': 47, 'student5': 48}\n"
     ]
    }
   ],
   "source": [
    "student_list=['student1','student2','student3','student4','student5','student6','student7','student8','student9','student10'] \n",
    "marks_list = [45, 78, 12, 14, 48, 43, 47, 98, 35, 80]\n",
    "rank_student(student_list, marks_list)"
   ]
  },
  {
   "cell_type": "markdown",
   "metadata": {},
   "source": [
    "# Question 5"
   ]
  },
  {
   "cell_type": "code",
   "execution_count": 19,
   "metadata": {},
   "outputs": [
    {
     "name": "stdout",
     "output_type": "stream",
     "text": [
      "(6, -7): 0.0651251633343868\n",
      "(1, -1): 0.14189705460416438\n",
      "(6, 0): 0.9272952180016123\n",
      "(-5, -8): 1.202100424136847\n",
      "(-1, -1): 1.4288992721907328\n"
     ]
    }
   ],
   "source": [
    "import math\n",
    "\n",
    "\n",
    "P= [(1,2),(3,4),(-1,1),(6,-7),(0, 6),(-5,-8),(-1,-1),(6,0),(1,-1)]\n",
    "Q= (3,-4)\n",
    "\n",
    "distance_list = []\n",
    "\n",
    "def distance_to_p(P, Q):\n",
    "    for i in range(len(P)):\n",
    "        distance = math.acos((P[i][0]*Q[0]+P[i][1]*Q[1])/math.sqrt((P[i][0]**2+P[i][1]**2)*(Q[0]**2+Q[1]**2)))\n",
    "        distance_list.append(distance)\n",
    "distance_to_p(P, Q)\n",
    "\n",
    "dictionary = dict(zip(P,distance_list))\n",
    "\n",
    "for key, value in sorted(dictionary.items(), key=lambda item: item[1])[:5]:\n",
    "    print(\"%s: %s\" % (key, value))"
   ]
  },
  {
   "cell_type": "markdown",
   "metadata": {},
   "source": [
    "Ref: https://stackoverflow.com/questions/6745464/inverse-cosine-in-python https://stackoverflow.com/questions/209840/convert-two-lists-into-a-dictionary"
   ]
  },
  {
   "cell_type": "markdown",
   "metadata": {},
   "source": [
    "# question 6"
   ]
  },
  {
   "cell_type": "code",
   "execution_count": 20,
   "metadata": {},
   "outputs": [
    {
     "name": "stdout",
     "output_type": "stream",
     "text": [
      "YES\n",
      "NO\n",
      "NO\n",
      "YES\n"
     ]
    }
   ],
   "source": [
    "blue_points= [(-2,-1),(-1,-2),(-3,-2),(-3,-1),(1,-3)]\n",
    "Lines=[\"1x+1y+0\",\"1x-1y+0\",\"1x+0y-3\",\"0x+1y-0.5\"]\n",
    "red_points= [(1,1),(2,1),(4,2),(2,4),(-1,4)]\n",
    "\n",
    "import re\n",
    "#create lists to store the values for red and blue points\n",
    "red = []\n",
    "blue= []\n",
    "final_red = []\n",
    "final_blue = []\n",
    "def get_coefficients(string):\n",
    "    a, b, c = [float(x.strip()) for x in re.split('x|y', string)]\n",
    "    return a,b,c\n",
    "    \n",
    "for line in Lines:\n",
    "    a,b,c = get_coefficients(line)\n",
    "    R = []\n",
    "    B= []\n",
    "    for i in range(len(red_points)):\n",
    "        r = ((a*red_points[i][0])+(b*red_points[i][1])+c)\n",
    "        R.append(r)\n",
    "    red.append(R)\n",
    "    for _ in range(len(blue_points)):\n",
    "        z = ((a*blue_points[_][0])+ (b*blue_points[_][1])+ c)\n",
    "        B.append(z)\n",
    "    blue.append(B)\n",
    "\n",
    "final_blue = [all(j < 0 for j in i) for i in blue]\n",
    "final_red = [all(k>0 for k in i) for i in red]\n",
    "\n",
    "for i in range(len(final_blue)):\n",
    "    if(final_blue[i]==True and final_red[i]==True):\n",
    "        print(\"YES\")\n",
    "    else:\n",
    "        print('NO')"
   ]
  },
  {
   "cell_type": "markdown",
   "metadata": {},
   "source": [
    "# Question 7"
   ]
  },
  {
   "cell_type": "code",
   "execution_count": 1,
   "metadata": {},
   "outputs": [],
   "source": [
    "def fill_gaps(a):\n",
    "    a = a.split(\",\")\n",
    "    while \"_\" in a:\n",
    "        l=0\n",
    "        m=0\n",
    "        r=0\n",
    "        flag_r=0\n",
    "        flag_l=0\n",
    "        for i,v in enumerate(a):\n",
    "            if i==0 and v!=\"_\":\n",
    "                l+=1\n",
    "                r+=1\n",
    "            elif i==(len(a)-1) and v==\"_\":\n",
    "                r+=1\n",
    "                flag_r = 1\n",
    "                m+=1\n",
    "                break\n",
    "            elif v==\"_\":\n",
    "                m+=1\n",
    "                r+=1\n",
    "            elif i>0 and v!=\"_\" and m==0:\n",
    "                l+=1\n",
    "                r+=1\n",
    "            elif i>0 and v!=\"_\" and m>0:\n",
    "                r+=1\n",
    "                break\n",
    "        denominator = m+2\n",
    "        if l==0:\n",
    "            left = 0\n",
    "            denominator = m+1\n",
    "            l=l+1\n",
    "        else:\n",
    "            left = int(a[l-1])\n",
    "        if flag_r==1:\n",
    "            right = 0\n",
    "            denominator = m+1\n",
    "        else:\n",
    "            right = int(a[r-1])\n",
    "        numerator = left+right\n",
    "        value = numerator/denominator\n",
    "        for j in range(l-1,r):\n",
    "            a[j] = int(value)\n",
    "    a = ','.join(str(e) for e in a)\n",
    "    return a\n"
   ]
  },
  {
   "cell_type": "code",
   "execution_count": 2,
   "metadata": {},
   "outputs": [
    {
     "data": {
      "text/plain": [
       "'2,2,2,3,3,3,25,25,25,25,25,5,5,5,5,5'"
      ]
     },
     "execution_count": 2,
     "metadata": {},
     "output_type": "execute_result"
    }
   ],
   "source": [
    "string = '_,4,_,4,_,7,60,_,_,_,_,90,_,_,_,_'\n",
    "fill_gaps(string)"
   ]
  },
  {
   "cell_type": "code",
   "execution_count": 9,
   "metadata": {},
   "outputs": [
    {
     "data": {
      "text/plain": [
       "'10,10,12,12,12,12,4,4,4'"
      ]
     },
     "execution_count": 9,
     "metadata": {},
     "output_type": "execute_result"
    }
   ],
   "source": [
    "string = \"_,_,30,_,_,_,50,_,_\"\n",
    "fill_gaps(string)"
   ]
  },
  {
   "cell_type": "markdown",
   "metadata": {},
   "source": [
    "# Question 8"
   ]
  },
  {
   "cell_type": "code",
   "execution_count": 28,
   "metadata": {},
   "outputs": [
    {
     "name": "stdout",
     "output_type": "stream",
     "text": [
      "Probability of P(F=F1|S==S1) = 0.25\n",
      "Probability of P(F=F1|S==S2) = 0.3333333333333333\n",
      "Probability of P(F=F1|S==S3) = 0.0\n",
      "Probability of P(F=F2|S==S1) = 0.25\n",
      "Probability of P(F=F2|S==S2) = 0.3333333333333333\n",
      "Probability of P(F=F2|S==S3) = 0.3333333333333333\n",
      "Probability of P(F=F3|S==S1) = 0.0\n",
      "Probability of P(F=F3|S==S2) = 0.3333333333333333\n",
      "Probability of P(F=F3|S==S3) = 0.3333333333333333\n",
      "Probability of P(F=F4|S==S1) = 0.25\n",
      "Probability of P(F=F4|S==S2) = 0.0\n",
      "Probability of P(F=F4|S==S3) = 0.3333333333333333\n",
      "Probability of P(F=F5|S==S1) = 0.25\n",
      "Probability of P(F=F5|S==S2) = 0.0\n",
      "Probability of P(F=F5|S==S3) = 0.0\n"
     ]
    }
   ],
   "source": [
    "A = [['F1','S1'],['F2','S2'],['F3','S3'],['F1','S2'],['F2','S3'],['F3','S2'],['F2','S1'],['F4','S1'],['F4','S3'],['F5','S1']]\n",
    "\n",
    "dict1 = {\n",
    " 'F1S1':0,\n",
    " 'F2S1':0,\n",
    " 'F3S1':0,\n",
    " 'F4S1':0,\n",
    " 'F5S1':0,\n",
    " 'F1S2':0,\n",
    " 'F2S2':0,\n",
    " 'F3S2':0,\n",
    " 'F4S2':0,\n",
    " 'F5S2':0,\n",
    " 'F1S3':0,\n",
    " 'F2S3':0,\n",
    " 'F3S3':0,\n",
    " 'F4S3':0,\n",
    " 'F5S3':0,\n",
    "}\n",
    "\n",
    "dict2= {\n",
    " 'S1':0,\n",
    " 'S2':0,\n",
    " 'S3':0\n",
    "}\n",
    "\n",
    "def compute_conditional_probabilites(A):\n",
    "    for i in range(len(A)):\n",
    "        if(A[i][0]=='F1'and A[i][1]=='S1'):\n",
    "            dict1['F1S1'] = dict1['F1S1'] +1\n",
    "            dict2['S1'] = dict2['S1'] +1\n",
    "        if(A[i][0]=='F1'and A[i][1]=='S2'):\n",
    "            dict1['F1S2'] = dict1['F1S2'] +1\n",
    "            dict2['S2'] = dict2['S2'] +1\n",
    "        if(A[i][0]=='F1'and A[i][1]=='S3'):\n",
    "            dict1['F1S3'] = dict1['F1S3'] +1\n",
    "            dict2['S3'] = dict2['S3'] +1\n",
    "        if(A[i][0]=='F2'and A[i][1]=='S1'):\n",
    "            dict1['F2S1'] = dict1['F2S1'] +1\n",
    "            dict2['S1'] = dict2['S1'] +1\n",
    "        if(A[i][0]=='F2'and A[i][1]=='S2'):\n",
    "            dict1['F2S2'] = dict1['F2S2'] +1\n",
    "            dict2['S2'] = dict2['S2'] +1\n",
    "        if(A[i][0]=='F2'and A[i][1]=='S3'):\n",
    "            dict1['F2S3'] = dict1['F2S3'] +1\n",
    "            dict2['S3'] = dict2['S3'] +1\n",
    "        if(A[i][0]=='F3'and A[i][1]=='S1'):\n",
    "            dict1['F3S1'] = dict1['F3S1'] +1\n",
    "            dict2['S1'] = dict2['S1'] +1\n",
    "        if(A[i][0]=='F3'and A[i][1]=='S2'):\n",
    "            dict1['F3S2'] = dict1['F3S2'] +1\n",
    "            dict2['S2'] = dict2['S2'] +1\n",
    "        if(A[i][0]=='F3'and A[i][1]=='S3'):\n",
    "            dict1['F3S3'] = dict1['F3S3'] +1\n",
    "            dict2['S3'] = dict2['S3'] +1\n",
    "        if(A[i][0]=='F4'and A[i][1]=='S1'):\n",
    "            dict1['F4S1'] = dict1['F4S1'] +1\n",
    "            dict2['S1'] = dict2['S1'] +1\n",
    "        if(A[i][0]=='F4'and A[i][1]=='S2'):\n",
    "            dict1['F4S2'] = dict1['F4S2'] +1\n",
    "            dict2['S2'] = dict2['S2'] +1\n",
    "        if(A[i][0]=='F4'and A[i][1]=='S3'):\n",
    "            dict1['F4S3'] = dict1['F4S3'] +1\n",
    "            dict2['S3'] = dict2['S3'] +1\n",
    "        if(A[i][0]=='F5'and A[i][1]=='S1'):\n",
    "            dict1['F5S1'] = dict1['F5S1'] +1\n",
    "            dict2['S1'] = dict2['S1'] +1\n",
    "        if(A[i][0]=='F5'and A[i][1]=='S2'):\n",
    "            dict1['F5S2'] = dict1['F5S2'] +1\n",
    "            dict2['S2'] = dict2['S2'] +1\n",
    "        if(A[i][0]=='F5'and A[i][1]=='S3'):\n",
    "            dict1['F5S3'] = dict1['F5S3'] +1\n",
    "            dict2['S3'] = dict2['S3'] +1                                \n",
    "\n",
    "compute_conditional_probabilites(A)\n",
    "\n",
    "#print the output as per the specified\n",
    "print('Probability of P(F=F1|S==S1) =',(dict1['F1S1']/dict2['S1']))\n",
    "print('Probability of P(F=F1|S==S2) =',(dict1['F1S2']/dict2['S2']))\n",
    "print('Probability of P(F=F1|S==S3) =',(dict1['F1S3']/dict2['S3']))\n",
    "print('Probability of P(F=F2|S==S1) =',(dict1['F2S1']/dict2['S1']))\n",
    "print('Probability of P(F=F2|S==S2) =',(dict1['F2S2']/dict2['S2']))\n",
    "print('Probability of P(F=F2|S==S3) =',(dict1['F2S3']/dict2['S3']))\n",
    "print('Probability of P(F=F3|S==S1) =',(dict1['F3S1']/dict2['S1']))\n",
    "print('Probability of P(F=F3|S==S2) =',(dict1['F3S2']/dict2['S2']))\n",
    "print('Probability of P(F=F3|S==S3) =',(dict1['F3S3']/dict2['S3']))\n",
    "print('Probability of P(F=F4|S==S1) =',(dict1['F4S1']/dict2['S1']))\n",
    "print('Probability of P(F=F4|S==S2) =',(dict1['F4S2']/dict2['S2']))\n",
    "print('Probability of P(F=F4|S==S3) =',(dict1['F4S3']/dict2['S3']))\n",
    "print('Probability of P(F=F5|S==S1) =',(dict1['F5S1']/dict2['S1']))\n",
    "print('Probability of P(F=F5|S==S2) =',(dict1['F5S2']/dict2['S2']))\n",
    "print('Probability of P(F=F5|S==S3) =',(dict1['F5S3']/dict2['S3']))"
   ]
  },
  {
   "cell_type": "markdown",
   "metadata": {},
   "source": [
    "# Question 9"
   ]
  },
  {
   "cell_type": "code",
   "execution_count": 29,
   "metadata": {},
   "outputs": [
    {
     "name": "stdout",
     "output_type": "stream",
     "text": [
      "7\n",
      "['F', '5', 'first']\n",
      "['second', '3', 'S']\n",
      "None\n"
     ]
    }
   ],
   "source": [
    "def sentence(S1, S2): #Take 2 sentences\n",
    "    x=[]\n",
    "    y=[]\n",
    "    z=[]\n",
    "    for character in S1.split():\n",
    "        for character1 in S2.split():\n",
    "            if(character ==character1):\n",
    "                x.append(character)\n",
    "    print(len(x))\n",
    "    y= list(set(S1.split())-set(S2.split()))\n",
    "    print(y)\n",
    "    z = list(set(S2.split())-set(S1.split()))\n",
    "    print(z)\n",
    "\n",
    "S1= \"The first column F will contain only 5 uniques values\"\n",
    "S2= \"The second column S will contain only 3 uniques values\"\n",
    "print(sentence(S1, S2))"
   ]
  },
  {
   "cell_type": "markdown",
   "metadata": {},
   "source": [
    "Ref: https://stackoverflow.com/questions/11938964/how-to-find-common-words-and-print-them-using-python-command \n",
    "->https://www.geeksforgeeks.org/python-difference-two-lists/"
   ]
  },
  {
   "cell_type": "markdown",
   "metadata": {},
   "source": [
    "# Question 10"
   ]
  },
  {
   "cell_type": "code",
   "execution_count": 30,
   "metadata": {},
   "outputs": [
    {
     "data": {
      "text/plain": [
       "0.42430993457031635"
      ]
     },
     "execution_count": 30,
     "metadata": {},
     "output_type": "execute_result"
    }
   ],
   "source": [
    "import math\n",
    "def calculate_fn_y_yscore(list):\n",
    "    sigma=0\n",
    "    for i in list:\n",
    "        y,yscore=i\n",
    "        value=y*math.log10(yscore)+(1-y)*math.log10(1-yscore)\n",
    "        sigma+=value\n",
    "    output_value=-1/len(list)*sigma\n",
    "    return(output_value)\n",
    "\n",
    "L=[[1, 0.4], [0, 0.5], [0, 0.9], [0, 0.3], [0, 0.6], [1, 0.1], [1, 0.9], [1, 0.8]]       \n",
    "\n",
    "calculate_fn_y_yscore(L)"
   ]
  }
 ],
 "metadata": {
  "kernelspec": {
   "display_name": "Python 3",
   "language": "python",
   "name": "python3"
  },
  "language_info": {
   "codemirror_mode": {
    "name": "ipython",
    "version": 3
   },
   "file_extension": ".py",
   "mimetype": "text/x-python",
   "name": "python",
   "nbconvert_exporter": "python",
   "pygments_lexer": "ipython3",
   "version": "3.8.8"
  }
 },
 "nbformat": 4,
 "nbformat_minor": 4
}
